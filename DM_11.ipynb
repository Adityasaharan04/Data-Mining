{
  "nbformat": 4,
  "nbformat_minor": 0,
  "metadata": {
    "colab": {
      "provenance": [],
      "authorship_tag": "ABX9TyPf9EgA0jT29OUjSrjBJSaK",
      "include_colab_link": true
    },
    "kernelspec": {
      "name": "python3",
      "display_name": "Python 3"
    },
    "language_info": {
      "name": "python"
    }
  },
  "cells": [
    {
      "cell_type": "markdown",
      "metadata": {
        "id": "view-in-github",
        "colab_type": "text"
      },
      "source": [
        "<a href=\"https://colab.research.google.com/github/Adityasaharan04/Data-Mining/blob/main/DM_11.ipynb\" target=\"_parent\"><img src=\"https://colab.research.google.com/assets/colab-badge.svg\" alt=\"Open In Colab\"/></a>"
      ]
    },
    {
      "cell_type": "code",
      "execution_count": 2,
      "metadata": {
        "colab": {
          "base_uri": "https://localhost:8080/"
        },
        "id": "VWgaqIQUxbWj",
        "outputId": "0b034da2-421a-4beb-effd-3988148d9e6f"
      },
      "outputs": [
        {
          "output_type": "stream",
          "name": "stdout",
          "text": [
            "Diaper => Bread (Support: 0.50, Confidence: 0.75, Lift: 0.90)\n",
            "Bread => Diaper (Support: 0.50, Confidence: 0.60, Lift: 0.90)\n",
            "Bread => Milk (Support: 0.50, Confidence: 0.60, Lift: 0.90)\n",
            "Milk => Bread (Support: 0.50, Confidence: 0.75, Lift: 0.90)\n",
            "Diaper => Milk (Support: 0.50, Confidence: 0.75, Lift: 1.12)\n",
            "Milk => Diaper (Support: 0.50, Confidence: 0.75, Lift: 1.12)\n"
          ]
        }
      ],
      "source": [
        "# Import required libraries\n",
        "import pandas as pd\n",
        "from mlxtend.frequent_patterns import apriori, association_rules\n",
        "from mlxtend.preprocessing import TransactionEncoder\n",
        "\n",
        "# Sample transactional data\n",
        "transactions = [\n",
        "    ['Milk', 'Bread', 'Diaper'],\n",
        "    ['Milk', 'Bread'],\n",
        "    ['Milk', 'Diaper'],\n",
        "    ['Bread', 'Diaper'],\n",
        "    ['Milk', 'Bread', 'Diaper', 'Beer'],\n",
        "    ['Bread', 'Beer']\n",
        "]\n",
        "\n",
        "# Convert transactions to DataFrame format\n",
        "te = TransactionEncoder()\n",
        "te_array = te.fit(transactions).transform(transactions)\n",
        "df = pd.DataFrame(te_array, columns=te.columns_)\n",
        "\n",
        "# Generate frequent itemsets with minimum support of 0.4\n",
        "frequent_itemsets = apriori(df, min_support=0.4, use_colnames=True)\n",
        "\n",
        "# Generate association rules with minimum confidence of 0.6\n",
        "rules = association_rules(frequent_itemsets, metric=\"confidence\", min_threshold=0.6)\n",
        "\n",
        "# Display selected rules in simple format\n",
        "for _, row in rules.iterrows():\n",
        "    ant = ', '.join(list(row['antecedents']))\n",
        "    cons = ', '.join(list(row['consequents']))\n",
        "    print(f\"{ant} => {cons} (Support: {row['support']:.2f}, Confidence: {row['confidence']:.2f}, Lift: {row['lift']:.2f})\")\n"
      ]
    }
  ]
}