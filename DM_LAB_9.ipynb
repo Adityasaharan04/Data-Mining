{
  "nbformat": 4,
  "nbformat_minor": 0,
  "metadata": {
    "colab": {
      "provenance": [],
      "authorship_tag": "ABX9TyMmncl7FOyTgVUCL+DVoIVg",
      "include_colab_link": true
    },
    "kernelspec": {
      "name": "python3",
      "display_name": "Python 3"
    },
    "language_info": {
      "name": "python"
    }
  },
  "cells": [
    {
      "cell_type": "markdown",
      "metadata": {
        "id": "view-in-github",
        "colab_type": "text"
      },
      "source": [
        "<a href=\"https://colab.research.google.com/github/Adityasaharan04/Data-Mining/blob/main/DM_LAB_9.ipynb\" target=\"_parent\"><img src=\"https://colab.research.google.com/assets/colab-badge.svg\" alt=\"Open In Colab\"/></a>"
      ]
    },
    {
      "cell_type": "code",
      "execution_count": 1,
      "metadata": {
        "id": "3kIRq9hPs2j3"
      },
      "outputs": [],
      "source": [
        "import numpy as np\n",
        "import pandas as pd\n",
        "from sklearn.preprocessing import MinMaxScaler, StandardScaler, Binarizer, LabelEncoder\n"
      ]
    },
    {
      "cell_type": "code",
      "source": [
        "# Creating a sample dataset\n",
        "data = {\n",
        "    \"Name\": [\"Aditya\", \"Abhinay\", \"Pulkit\", \"Mohit\", \"Vikram\"],\n",
        "    \"City\": [\"Rohtak\", \"Hisar\", \"Bhiwani\", \"Sonipat\", \"Jind\"],\n",
        "    \"Age\": [21, 24, 22, 25, 23],\n",
        "    \"Income\": [25000, 55000, 32000, 75000, 48000],\n",
        "    \"Purchase_Frequency\": [3, 8, 5, 12, 7]\n",
        "}\n",
        "\n",
        "df = pd.DataFrame(data)\n",
        "print(\"Original Dataset:\\n\", df)\n"
      ],
      "metadata": {
        "colab": {
          "base_uri": "https://localhost:8080/"
        },
        "id": "6OT31UG6s7Bq",
        "outputId": "b952d314-252e-4582-f9de-9c5b9efd1417"
      },
      "execution_count": 2,
      "outputs": [
        {
          "output_type": "stream",
          "name": "stdout",
          "text": [
            "Original Dataset:\n",
            "       Name     City  Age  Income  Purchase_Frequency\n",
            "0   Aditya   Rohtak   21   25000                   3\n",
            "1  Abhinay    Hisar   24   55000                   8\n",
            "2   Pulkit  Bhiwani   22   32000                   5\n",
            "3    Mohit  Sonipat   25   75000                  12\n",
            "4   Vikram     Jind   23   48000                   7\n"
          ]
        }
      ]
    },
    {
      "cell_type": "code",
      "source": [
        "scaler = MinMaxScaler()\n",
        "df_scaled = df.copy()\n",
        "df_scaled[['Age', 'Income', 'Purchase_Frequency']] = scaler.fit_transform(df[['Age', 'Income', 'Purchase_Frequency']])\n",
        "print(\"\\nMin-Max Scaled Data:\\n\", df_scaled)\n"
      ],
      "metadata": {
        "colab": {
          "base_uri": "https://localhost:8080/"
        },
        "id": "cf2IuW93s7ET",
        "outputId": "87ca25cc-cc75-423d-b9c6-bd8bb03ea471"
      },
      "execution_count": 3,
      "outputs": [
        {
          "output_type": "stream",
          "name": "stdout",
          "text": [
            "\n",
            "Min-Max Scaled Data:\n",
            "       Name     City   Age  Income  Purchase_Frequency\n",
            "0   Aditya   Rohtak  0.00    0.00            0.000000\n",
            "1  Abhinay    Hisar  0.75    0.60            0.555556\n",
            "2   Pulkit  Bhiwani  0.25    0.14            0.222222\n",
            "3    Mohit  Sonipat  1.00    1.00            1.000000\n",
            "4   Vikram     Jind  0.50    0.46            0.444444\n"
          ]
        }
      ]
    },
    {
      "cell_type": "code",
      "source": [
        "from sklearn.preprocessing import normalize\n",
        "df_normalized = df.copy()\n",
        "df_normalized[['Age', 'Income', 'Purchase_Frequency']] = normalize(df[['Age', 'Income', 'Purchase_Frequency']])\n",
        "print(\"\\nNormalized Data:\\n\", df_normalized)\n"
      ],
      "metadata": {
        "colab": {
          "base_uri": "https://localhost:8080/"
        },
        "id": "NbXW2iMNs7HO",
        "outputId": "3071a21b-4f6f-4710-bccd-b98fd17005cb"
      },
      "execution_count": 4,
      "outputs": [
        {
          "output_type": "stream",
          "name": "stdout",
          "text": [
            "\n",
            "Normalized Data:\n",
            "       Name     City       Age  Income  Purchase_Frequency\n",
            "0   Aditya   Rohtak  0.000840     1.0            0.000120\n",
            "1  Abhinay    Hisar  0.000436     1.0            0.000145\n",
            "2   Pulkit  Bhiwani  0.000687     1.0            0.000156\n",
            "3    Mohit  Sonipat  0.000333     1.0            0.000160\n",
            "4   Vikram     Jind  0.000479     1.0            0.000146\n"
          ]
        }
      ]
    },
    {
      "cell_type": "code",
      "source": [
        "binarizer = Binarizer(threshold=40000)\n",
        "df_binarized = df.copy()\n",
        "df_binarized['Income'] = binarizer.fit_transform(df[['Income']])\n",
        "print(\"\\nBinarized Data (Income > 40000 marked as 1):\\n\", df_binarized)\n"
      ],
      "metadata": {
        "colab": {
          "base_uri": "https://localhost:8080/"
        },
        "id": "rGIT2Os1s7KF",
        "outputId": "5131d320-f066-4821-dad7-bb2c22d340b2"
      },
      "execution_count": 5,
      "outputs": [
        {
          "output_type": "stream",
          "name": "stdout",
          "text": [
            "\n",
            "Binarized Data (Income > 40000 marked as 1):\n",
            "       Name     City  Age  Income  Purchase_Frequency\n",
            "0   Aditya   Rohtak   21       0                   3\n",
            "1  Abhinay    Hisar   24       1                   8\n",
            "2   Pulkit  Bhiwani   22       0                   5\n",
            "3    Mohit  Sonipat   25       1                  12\n",
            "4   Vikram     Jind   23       1                   7\n"
          ]
        }
      ]
    },
    {
      "cell_type": "code",
      "source": [
        "scaler = StandardScaler()\n",
        "df_standardized = df.copy()\n",
        "df_standardized[['Age', 'Income', 'Purchase_Frequency']] = scaler.fit_transform(df[['Age', 'Income', 'Purchase_Frequency']])\n",
        "print(\"\\nStandardized Data:\\n\", df_standardized)\n"
      ],
      "metadata": {
        "colab": {
          "base_uri": "https://localhost:8080/"
        },
        "id": "kEdMwu9-s7M3",
        "outputId": "74f83241-89ef-4c01-f6d6-a5625a918444"
      },
      "execution_count": 6,
      "outputs": [
        {
          "output_type": "stream",
          "name": "stdout",
          "text": [
            "\n",
            "Standardized Data:\n",
            "       Name     City       Age    Income  Purchase_Frequency\n",
            "0   Aditya   Rohtak -1.414214 -1.246304           -1.318761\n",
            "1  Abhinay    Hisar  0.707107  0.453201            0.329690\n",
            "2   Pulkit  Bhiwani -0.707107 -0.849753           -0.659380\n",
            "3    Mohit  Sonipat  1.414214  1.586205            1.648451\n",
            "4   Vikram     Jind  0.000000  0.056650            0.000000\n"
          ]
        }
      ]
    },
    {
      "cell_type": "code",
      "source": [
        "encoder = LabelEncoder()\n",
        "df_labeled = df.copy()\n",
        "df_labeled['City'] = encoder.fit_transform(df['City'])\n",
        "print(\"\\nLabeled Data (Cities encoded numerically):\\n\", df_labeled)\n"
      ],
      "metadata": {
        "colab": {
          "base_uri": "https://localhost:8080/"
        },
        "id": "Hj7zeocutDDp",
        "outputId": "db4359cc-6ea6-4c31-8f08-cb297b1aeccd"
      },
      "execution_count": 7,
      "outputs": [
        {
          "output_type": "stream",
          "name": "stdout",
          "text": [
            "\n",
            "Labeled Data (Cities encoded numerically):\n",
            "       Name  City  Age  Income  Purchase_Frequency\n",
            "0   Aditya     3   21   25000                   3\n",
            "1  Abhinay     1   24   55000                   8\n",
            "2   Pulkit     0   22   32000                   5\n",
            "3    Mohit     4   25   75000                  12\n",
            "4   Vikram     2   23   48000                   7\n"
          ]
        }
      ]
    }
  ]
}