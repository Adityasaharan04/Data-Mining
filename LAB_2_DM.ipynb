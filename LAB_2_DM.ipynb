{
  "nbformat": 4,
  "nbformat_minor": 0,
  "metadata": {
    "colab": {
      "provenance": [],
      "authorship_tag": "ABX9TyNR7ptk/TlgyD96kX08FN+1",
      "include_colab_link": true
    },
    "kernelspec": {
      "name": "python3",
      "display_name": "Python 3"
    },
    "language_info": {
      "name": "python"
    }
  },
  "cells": [
    {
      "cell_type": "markdown",
      "metadata": {
        "id": "view-in-github",
        "colab_type": "text"
      },
      "source": [
        "<a href=\"https://colab.research.google.com/github/Adityasaharan04/Data-Mining/blob/main/LAB_2_DM.ipynb\" target=\"_parent\"><img src=\"https://colab.research.google.com/assets/colab-badge.svg\" alt=\"Open In Colab\"/></a>"
      ]
    },
    {
      "cell_type": "code",
      "execution_count": 1,
      "metadata": {
        "colab": {
          "base_uri": "https://localhost:8080/"
        },
        "id": "CkVO7R1NmLae",
        "outputId": "4e4df8fa-000a-464f-945f-1d3e94bb87d1"
      },
      "outputs": [
        {
          "output_type": "stream",
          "name": "stdout",
          "text": [
            "Enter a number: 5\n",
            "5 is an Odd number\n"
          ]
        }
      ],
      "source": [
        "# Python program to check if a number is even or odd\n",
        "\n",
        "num = int(input(\"Enter a number: \"))  # Taking input from the user\n",
        "\n",
        "# Decision making using if-else\n",
        "if num % 2 == 0:\n",
        "    print(f\"{num} is an Even number\")  # If remainder is 0, number is even\n",
        "else:\n",
        "    print(f\"{num} is an Odd number\")   # Otherwise, it's odd\n"
      ]
    },
    {
      "cell_type": "code",
      "source": [
        "# Python program to print numbers from 1 to 10 using a for loop\n",
        "\n",
        "for i in range(1, 11):  # Loop runs from 1 to 10\n",
        "    print(i)\n"
      ],
      "metadata": {
        "colab": {
          "base_uri": "https://localhost:8080/"
        },
        "id": "BGs_7OFqmSBy",
        "outputId": "fa215f35-acc0-4a6d-be79-4ca9bb34ee26"
      },
      "execution_count": 2,
      "outputs": [
        {
          "output_type": "stream",
          "name": "stdout",
          "text": [
            "1\n",
            "2\n",
            "3\n",
            "4\n",
            "5\n",
            "6\n",
            "7\n",
            "8\n",
            "9\n",
            "10\n"
          ]
        }
      ]
    },
    {
      "cell_type": "code",
      "source": [
        "# Python program to find the sum of first n natural numbers using a while loop\n",
        "\n",
        "n = int(input(\"Enter a positive number: \"))  # Taking input from the user\n",
        "sum = 0  # Initializing sum\n",
        "i = 1  # Counter variable\n",
        "\n",
        "while i <= n:  # Loop until i reaches n\n",
        "    sum += i  # Adding i to sum\n",
        "    i += 1  # Incrementing i\n",
        "\n",
        "print(f\"The sum of first {n} natural numbers is {sum}\")  # Printing the result\n"
      ],
      "metadata": {
        "colab": {
          "base_uri": "https://localhost:8080/"
        },
        "id": "XDyWCwVBmdwN",
        "outputId": "5400dc3c-cd6c-427d-e590-e5619bdde7b5"
      },
      "execution_count": 3,
      "outputs": [
        {
          "output_type": "stream",
          "name": "stdout",
          "text": [
            "Enter a positive number: 9\n",
            "The sum of first 9 natural numbers is 45\n"
          ]
        }
      ]
    },
    {
      "cell_type": "code",
      "source": [
        "# Python program to demonstrate string operations\n",
        "\n",
        "str1 = \"Hello\"  # First string\n",
        "str2 = \"World\"  # Second string\n",
        "\n",
        "# Concatenation\n",
        "concat_str = str1 + \" \" + str2\n",
        "print(\"Concatenated String:\", concat_str)\n",
        "\n",
        "# Slicing\n",
        "print(\"First 3 letters of str1:\", str1[:3])  # Extracting first 3 letters\n",
        "print(\"Last 3 letters of str2:\", str2[-3:])  # Extracting last 3 letters\n",
        "\n",
        "# Finding length\n",
        "print(\"Length of concatenated string:\", len(concat_str))\n"
      ],
      "metadata": {
        "colab": {
          "base_uri": "https://localhost:8080/"
        },
        "id": "alnHDus-mmjb",
        "outputId": "fdfae31e-4323-4be0-8f2d-86964a61208d"
      },
      "execution_count": 4,
      "outputs": [
        {
          "output_type": "stream",
          "name": "stdout",
          "text": [
            "Concatenated String: Hello World\n",
            "First 3 letters of str1: Hel\n",
            "Last 3 letters of str2: rld\n",
            "Length of concatenated string: 11\n"
          ]
        }
      ]
    }
  ]
}