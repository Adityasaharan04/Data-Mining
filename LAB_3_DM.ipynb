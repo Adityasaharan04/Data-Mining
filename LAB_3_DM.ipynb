{
  "nbformat": 4,
  "nbformat_minor": 0,
  "metadata": {
    "colab": {
      "provenance": [],
      "authorship_tag": "ABX9TyOZ/SvAJTSK5h6BBvc3Bq85",
      "include_colab_link": true
    },
    "kernelspec": {
      "name": "python3",
      "display_name": "Python 3"
    },
    "language_info": {
      "name": "python"
    }
  },
  "cells": [
    {
      "cell_type": "markdown",
      "metadata": {
        "id": "view-in-github",
        "colab_type": "text"
      },
      "source": [
        "<a href=\"https://colab.research.google.com/github/Adityasaharan04/Data-Mining/blob/main/LAB_3_DM.ipynb\" target=\"_parent\"><img src=\"https://colab.research.google.com/assets/colab-badge.svg\" alt=\"Open In Colab\"/></a>"
      ]
    },
    {
      "cell_type": "code",
      "execution_count": null,
      "metadata": {
        "colab": {
          "base_uri": "https://localhost:8080/"
        },
        "id": "nGykAIacqB9V",
        "outputId": "c7d93bef-7ffd-4fc1-8e18-c3b8a8c1b220"
      },
      "outputs": [
        {
          "output_type": "stream",
          "name": "stdout",
          "text": [
            "Enter words (press Enter on a blank line to stop):\n",
            "RED\n",
            "YELLOW\n",
            "RED\n",
            "BLACK\n",
            "GREEN\n",
            "BLACK\n",
            "\n",
            "\n",
            "Unique words in order:\n",
            "RED\n",
            "YELLOW\n",
            "BLACK\n",
            "GREEN\n"
          ]
        }
      ],
      "source": [
        "# Python program to accept words and display unique words in order\n",
        "\n",
        "word_list = []  # List to maintain order\n",
        "word_set = set()  # Set to ensure uniqueness\n",
        "\n",
        "print(\"Enter words (press Enter on a blank line to stop):\")\n",
        "while True:\n",
        "    word = input().strip()  # Take input and remove extra spaces\n",
        "    if word == \"\":  # Stop when a blank line is entered\n",
        "        break\n",
        "    if word not in word_set:  # Check if word is unique\n",
        "        word_list.append(word)\n",
        "        word_set.add(word)\n",
        "\n",
        "# Print unique words in order of appearance\n",
        "print(\"\\nUnique words in order:\")\n",
        "for word in word_list:\n",
        "    print(word)\n"
      ]
    },
    {
      "cell_type": "code",
      "source": [
        "# Python program to create a dictionary from two lists and sort it\n",
        "\n",
        "# Function to take input as a list\n",
        "def get_list(prompt):\n",
        "    print(prompt)\n",
        "    return input().split()  # Taking space-separated input and converting to a list\n",
        "\n",
        "# Taking two lists as input\n",
        "keys = get_list(\"Enter keys (e.g., colors):\")\n",
        "values = get_list(\"Enter values:\")\n",
        "\n",
        "# Creating dictionary\n",
        "dictionary = dict(zip(keys, values))\n",
        "\n",
        "# Displaying the created dictionary\n",
        "print(\"\\nOriginal Dictionary:\", dictionary)\n",
        "\n",
        "# Asking for sorting criteria\n",
        "sort_type = input(\"Sort by (key/value)? \").strip().lower()\n",
        "order_type = input(\"Order (asc/desc)? \").strip().lower()\n",
        "\n",
        "# Sorting dictionary\n",
        "reverse_order = True if order_type == \"desc\" else False\n",
        "\n",
        "if sort_type == \"key\":\n",
        "    sorted_dict = dict(sorted(dictionary.items(), key=lambda x: x[0], reverse=reverse_order))\n",
        "elif sort_type == \"value\":\n",
        "    sorted_dict = dict(sorted(dictionary.items(), key=lambda x: x[1], reverse=reverse_order))\n",
        "else:\n",
        "    print(\"Invalid sorting type!\")\n",
        "    sorted_dict = dictionary\n",
        "\n",
        "# Displaying sorted dictionary\n",
        "print(\"\\nSorted Dictionary:\", sorted_dict)\n"
      ],
      "metadata": {
        "colab": {
          "base_uri": "https://localhost:8080/"
        },
        "id": "BLNtqYsJqGtv",
        "outputId": "77297273-1987-4964-e131-415897d7f9a9"
      },
      "execution_count": null,
      "outputs": [
        {
          "output_type": "stream",
          "name": "stdout",
          "text": [
            "Enter keys (e.g., colors):\n",
            "RED ORANGE BLACK\n",
            "Enter values:\n",
            "100 200 300\n",
            "\n",
            "Original Dictionary: {'RED': '100', 'ORANGE': '200', 'BLACK': '300'}\n",
            "Sort by (key/value)? HEY\n",
            "Order (asc/desc)? ASC\n",
            "Invalid sorting type!\n",
            "\n",
            "Sorted Dictionary: {'RED': '100', 'ORANGE': '200', 'BLACK': '300'}\n"
          ]
        }
      ]
    }
  ]
}