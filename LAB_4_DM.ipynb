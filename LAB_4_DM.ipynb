{
  "cells": [
    {
      "cell_type": "markdown",
      "metadata": {
        "id": "view-in-github",
        "colab_type": "text"
      },
      "source": [
        "<a href=\"https://colab.research.google.com/github/Adityasaharan04/Data-Mining/blob/main/LAB_4_DM.ipynb\" target=\"_parent\"><img src=\"https://colab.research.google.com/assets/colab-badge.svg\" alt=\"Open In Colab\"/></a>"
      ]
    },
    {
      "cell_type": "markdown",
      "id": "bff72735",
      "metadata": {
        "id": "bff72735"
      },
      "source": [
        "# File Handling and Exception Handling in Python\n",
        "---"
      ]
    },
    {
      "cell_type": "markdown",
      "id": "c998df2e",
      "metadata": {
        "id": "c998df2e"
      },
      "source": [
        "## 1️⃣ Reading and Writing Text Files in Python"
      ]
    },
    {
      "cell_type": "code",
      "execution_count": null,
      "id": "2e095984",
      "metadata": {
        "colab": {
          "base_uri": "https://localhost:8080/"
        },
        "id": "2e095984",
        "outputId": "88dc03ad-f93d-490b-efcd-bcfc0d01425a"
      },
      "outputs": [
        {
          "output_type": "stream",
          "name": "stdout",
          "text": [
            "File Content:\n",
            " Hello, this is a sample text file.\n",
            "This is the second line.\n"
          ]
        }
      ],
      "source": [
        "\n",
        "# Writing to a text file\n",
        "with open(\"sample.txt\", \"w\") as file:\n",
        "    file.write(\"Hello, this is a sample text file.\\n\")\n",
        "    file.write(\"This is the second line.\")\n",
        "\n",
        "# Reading from a text file\n",
        "with open(\"sample.txt\", \"r\") as file:\n",
        "    content = file.read()\n",
        "\n",
        "# Display content\n",
        "print(\"File Content:\\n\", content)\n"
      ]
    },
    {
      "cell_type": "markdown",
      "id": "058f4570",
      "metadata": {
        "id": "058f4570"
      },
      "source": [
        "## 2️⃣ Reading Excel and CSV Files using pandas"
      ]
    },
    {
      "cell_type": "code",
      "execution_count": null,
      "id": "fd2975f9",
      "metadata": {
        "colab": {
          "base_uri": "https://localhost:8080/"
        },
        "id": "fd2975f9",
        "outputId": "cd5862c8-9e8b-40ff-802c-f75fa17978f7"
      },
      "outputs": [
        {
          "output_type": "stream",
          "name": "stdout",
          "text": [
            "CSV Data:\n",
            "       Name  Age  Salary\n",
            "0   ADITYA   25  520000\n",
            "1    MOHIT   30  460000\n",
            "2    RAMAN   22  455000\n",
            "3     AMAN   35  700000\n",
            "4  ABHINAY   28  555000\n",
            "\n",
            "Excel Data:\n",
            "       Name  Age  Salary\n",
            "0   ADITYA   25  520000\n",
            "1    MOHIT   30  460000\n",
            "2    RAMAN   22  455000\n",
            "3     AMAN   35  700000\n",
            "4  ABHINAY   28  555000\n"
          ]
        }
      ],
      "source": [
        "\n",
        "import pandas as pd\n",
        "\n",
        "# Creating a sample CSV file\n",
        "csv_data = \"Name,Age,City\\nJohn,25,New York\\nAlice,30,Los Angeles\\nBob,22,Chicago\"\n",
        "with open(\"sample.csv\", \"w\") as file:\n",
        "    file.write(csv_data)\n",
        "\n",
        "# Reading CSV file\n",
        "df_csv = pd.read_csv(\"data.csv\")\n",
        "print(\"CSV Data:\\n\", df_csv)\n",
        "\n",
        "# Creating a sample Excel file\n",
        "df_csv.to_excel(\"sample.xlsx\", index=False)\n",
        "\n",
        "# Reading Excel file\n",
        "df_excel = pd.read_excel(\"sample.xlsx\")\n",
        "print(\"\\nExcel Data:\\n\", df_excel)\n"
      ]
    },
    {
      "cell_type": "markdown",
      "id": "22f052a7",
      "metadata": {
        "id": "22f052a7"
      },
      "source": [
        "## 3️⃣ Reading Websites using urllib3"
      ]
    },
    {
      "cell_type": "code",
      "execution_count": null,
      "id": "1e3519b2",
      "metadata": {
        "colab": {
          "base_uri": "https://localhost:8080/"
        },
        "id": "1e3519b2",
        "outputId": "2ca607cc-2007-4251-fe79-726d0f0e19d8"
      },
      "outputs": [
        {
          "output_type": "stream",
          "name": "stdout",
          "text": [
            "Web Page Content:\n",
            " <!doctype html>\n",
            "<html>\n",
            "<head>\n",
            "    <title>Example Domain</title>\n",
            "\n",
            "    <meta charset=\"utf-8\" />\n",
            "    <meta http-equiv=\"Content-type\" content=\"text/html; charset=utf-8\" />\n",
            "    <meta name=\"viewport\" content=\"width=device-width, initial-scale=1\" />\n",
            "    <style type=\"text/css\">\n",
            "    body {\n",
            "        background-color: #f0f0f2;\n",
            "        margin: 0;\n",
            "        padding: 0;\n",
            "        font-family: -apple-system, system-ui, BlinkMacSystemFont, \"Segoe UI\", \"Open Sans\", \"Helvetica Neue\", Helvetica, Arial, sans-serif;\n",
            "    \n"
          ]
        }
      ],
      "source": [
        "\n",
        "import urllib3\n",
        "\n",
        "# Initialize HTTP connection pool manager\n",
        "http = urllib3.PoolManager()\n",
        "url = \"http://example.com\"\n",
        "\n",
        "# Fetching web page content\n",
        "response = http.request('GET', url)\n",
        "\n",
        "# Display first 500 characters of the webpage\n",
        "print(\"Web Page Content:\\n\", response.data[:500].decode('utf-8'))\n"
      ]
    },
    {
      "cell_type": "code",
      "source": [
        "!pip install fpdf\n"
      ],
      "metadata": {
        "colab": {
          "base_uri": "https://localhost:8080/"
        },
        "id": "79Q5Tpu5xq84",
        "outputId": "5b3e90e8-0bae-4473-a15c-a5e7fd785a86"
      },
      "id": "79Q5Tpu5xq84",
      "execution_count": null,
      "outputs": [
        {
          "output_type": "stream",
          "name": "stdout",
          "text": [
            "Collecting fpdf\n",
            "  Downloading fpdf-1.7.2.tar.gz (39 kB)\n",
            "  Preparing metadata (setup.py) ... \u001b[?25l\u001b[?25hdone\n",
            "Building wheels for collected packages: fpdf\n",
            "  Building wheel for fpdf (setup.py) ... \u001b[?25l\u001b[?25hdone\n",
            "  Created wheel for fpdf: filename=fpdf-1.7.2-py2.py3-none-any.whl size=40704 sha256=375aac10cc957fa80b97ada9d9acf231ac99f24d7aa1fd7ef0476ebb2e719f60\n",
            "  Stored in directory: /root/.cache/pip/wheels/65/4f/66/bbda9866da446a72e206d6484cd97381cbc7859a7068541c36\n",
            "Successfully built fpdf\n",
            "Installing collected packages: fpdf\n",
            "Successfully installed fpdf-1.7.2\n"
          ]
        }
      ]
    },
    {
      "cell_type": "markdown",
      "id": "03fe1466",
      "metadata": {
        "id": "03fe1466"
      },
      "source": [
        "## 4️⃣ Reading PDF Files using PyPDF2"
      ]
    },
    {
      "cell_type": "code",
      "execution_count": null,
      "id": "9a200f50",
      "metadata": {
        "colab": {
          "base_uri": "https://localhost:8080/"
        },
        "id": "9a200f50",
        "outputId": "370361c5-4be2-4590-ae20-6192db35da75"
      },
      "outputs": [
        {
          "output_type": "stream",
          "name": "stdout",
          "text": [
            "Requirement already satisfied: PyPDF2 in /usr/local/lib/python3.11/dist-packages (3.0.1)\n",
            "PDF Content:\n",
            " Data_Mining_Lab\n"
          ]
        }
      ],
      "source": [
        "\n",
        "!pip install PyPDF2  # Installing PyPDF2 in Google Colab\n",
        "\n",
        "import PyPDF2\n",
        "\n",
        "# Creating a sample PDF file (for demonstration)\n",
        "from fpdf import FPDF\n",
        "\n",
        "pdf = FPDF()\n",
        "pdf.add_page()\n",
        "pdf.set_font(\"Arial\", size=12)\n",
        "pdf.cell(200, 10, \"Data_Mining_Lab\", ln=True, align=\"C\")\n",
        "pdf.output(\"Data_Mining_Lab.pdf\")\n",
        "\n",
        "# Reading PDF File\n",
        "with open(\"Data_Mining_Lab.pdf\", \"rb\") as file:\n",
        "    reader = PyPDF2.PdfReader(file)\n",
        "    text = \"\"\n",
        "    for page in reader.pages:\n",
        "        text += page.extract_text()\n",
        "\n",
        "print(\"PDF Content:\\n\", text)\n"
      ]
    },
    {
      "cell_type": "markdown",
      "id": "b1b77238",
      "metadata": {
        "id": "b1b77238"
      },
      "source": [
        "## 5️⃣ Demonstrating Exception Handling with Examples"
      ]
    },
    {
      "cell_type": "code",
      "execution_count": null,
      "id": "e9bb0eab",
      "metadata": {
        "colab": {
          "base_uri": "https://localhost:8080/"
        },
        "id": "e9bb0eab",
        "outputId": "77a9f56b-cef1-45e7-fe09-d55d2e58f760"
      },
      "outputs": [
        {
          "output_type": "stream",
          "name": "stdout",
          "text": [
            "Exception Caught: Cannot divide by zero! division by zero\n",
            "Exception Caught: File not found! [Errno 2] No such file or directory: 'non_existent.txt'\n",
            "Exception Caught: Invalid type conversion! invalid literal for int() with base 10: 'abc'\n"
          ]
        }
      ],
      "source": [
        "\n",
        "try:\n",
        "    # Attempting to divide by zero\n",
        "    result = 10 / 0\n",
        "except ZeroDivisionError as e:\n",
        "    print(\"Exception Caught: Cannot divide by zero!\", e)\n",
        "\n",
        "try:\n",
        "    # Attempting to read a non-existent file\n",
        "    with open(\"non_existent.txt\", \"r\") as file:\n",
        "        content = file.read()\n",
        "except FileNotFoundError as e:\n",
        "    print(\"Exception Caught: File not found!\", e)\n",
        "\n",
        "try:\n",
        "    # Attempting invalid type conversion\n",
        "    num = int(\"abc\")\n",
        "except ValueError as e:\n",
        "    print(\"Exception Caught: Invalid type conversion!\", e)\n"
      ]
    }
  ],
  "metadata": {
    "colab": {
      "provenance": [],
      "include_colab_link": true
    },
    "language_info": {
      "name": "python"
    },
    "kernelspec": {
      "name": "python3",
      "display_name": "Python 3"
    }
  },
  "nbformat": 4,
  "nbformat_minor": 5
}