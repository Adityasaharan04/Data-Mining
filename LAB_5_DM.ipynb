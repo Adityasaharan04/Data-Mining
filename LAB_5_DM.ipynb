{
  "nbformat": 4,
  "nbformat_minor": 0,
  "metadata": {
    "colab": {
      "provenance": [],
      "authorship_tag": "ABX9TyMrUehLIG4paXe7yUtuxoKF",
      "include_colab_link": true
    },
    "kernelspec": {
      "name": "python3",
      "display_name": "Python 3"
    },
    "language_info": {
      "name": "python"
    }
  },
  "cells": [
    {
      "cell_type": "markdown",
      "metadata": {
        "id": "view-in-github",
        "colab_type": "text"
      },
      "source": [
        "<a href=\"https://colab.research.google.com/github/Adityasaharan04/Data-Mining/blob/main/LAB_5_DM.ipynb\" target=\"_parent\"><img src=\"https://colab.research.google.com/assets/colab-badge.svg\" alt=\"Open In Colab\"/></a>"
      ]
    },
    {
      "cell_type": "code",
      "execution_count": 1,
      "metadata": {
        "colab": {
          "base_uri": "https://localhost:8080/"
        },
        "id": "vaVgp3HAT6hU",
        "outputId": "6e509137-12ff-4285-fe69-db6daf996be5"
      },
      "outputs": [
        {
          "output_type": "stream",
          "name": "stdout",
          "text": [
            "[1 2 3 4 5]\n"
          ]
        }
      ],
      "source": [
        "import numpy as np\n",
        "arr = np.array([1, 2, 3, 4, 5])\n",
        "print(arr)\n"
      ]
    },
    {
      "cell_type": "code",
      "source": [
        "arr = np.array([1, 2, 3], dtype=float)\n",
        "print(arr.dtype)\n"
      ],
      "metadata": {
        "colab": {
          "base_uri": "https://localhost:8080/"
        },
        "id": "S5GgCkXWUBV_",
        "outputId": "2b79ca94-da54-4f85-d222-11951cae4c8b"
      },
      "execution_count": 2,
      "outputs": [
        {
          "output_type": "stream",
          "name": "stdout",
          "text": [
            "float64\n"
          ]
        }
      ]
    },
    {
      "cell_type": "code",
      "source": [
        "arr = np.array([[1, 2, 3], [4, 5, 6]])\n",
        "print(arr.shape)\n",
        "print(arr.size)\n",
        "print(arr.dtype)\n"
      ],
      "metadata": {
        "colab": {
          "base_uri": "https://localhost:8080/"
        },
        "id": "8ikA0hm5UBY8",
        "outputId": "97b98d6a-0bd5-414d-dc9f-963044e47791"
      },
      "execution_count": 3,
      "outputs": [
        {
          "output_type": "stream",
          "name": "stdout",
          "text": [
            "(2, 3)\n",
            "6\n",
            "int64\n"
          ]
        }
      ]
    },
    {
      "cell_type": "code",
      "source": [
        "arr1 = np.zeros((2,3))\n",
        "arr2 = np.ones((3,3))\n",
        "arr3 = np.arange(1, 10, 2)\n",
        "arr4 = np.linspace(1, 10, 5)\n"
      ],
      "metadata": {
        "id": "k7_PaxyLUBb2"
      },
      "execution_count": 11,
      "outputs": []
    },
    {
      "cell_type": "code",
      "source": [
        "arr = np.array([10, 20, 30, 40, 50])\n",
        "print(arr[2])\n",
        "print(arr[1:4])\n"
      ],
      "metadata": {
        "colab": {
          "base_uri": "https://localhost:8080/"
        },
        "id": "_y-umsP6UBek",
        "outputId": "53ed5c0f-c286-4072-c857-801884a0ca36"
      },
      "execution_count": 5,
      "outputs": [
        {
          "output_type": "stream",
          "name": "stdout",
          "text": [
            "30\n",
            "[20 30 40]\n"
          ]
        }
      ]
    },
    {
      "cell_type": "code",
      "source": [
        "arr = np.array([1, 2, 3])\n",
        "print(arr + 10)\n"
      ],
      "metadata": {
        "colab": {
          "base_uri": "https://localhost:8080/"
        },
        "id": "aLCO8WMeUBhc",
        "outputId": "8344626c-bd34-4ac2-8e4e-0f2b7230b81a"
      },
      "execution_count": 6,
      "outputs": [
        {
          "output_type": "stream",
          "name": "stdout",
          "text": [
            "[11 12 13]\n"
          ]
        }
      ]
    },
    {
      "cell_type": "code",
      "source": [
        "arr = np.array([[1, 2, 3], [4, 5, 6]])\n",
        "for x in np.nditer(arr):\n",
        "    print(x, end=\" \")\n"
      ],
      "metadata": {
        "colab": {
          "base_uri": "https://localhost:8080/"
        },
        "id": "XiL9XDbWUBkf",
        "outputId": "85db71c9-6986-4a90-cff3-86b39369172e"
      },
      "execution_count": 7,
      "outputs": [
        {
          "output_type": "stream",
          "name": "stdout",
          "text": [
            "1 2 3 4 5 6 "
          ]
        }
      ]
    },
    {
      "cell_type": "code",
      "source": [
        "arr1 = np.array([1, 2, 3])\n",
        "arr2 = np.array([4, 5, 6])\n",
        "\n",
        "print(arr1 + arr2)\n",
        "print(arr1 * arr2)\n",
        "print(arr1 / arr2)\n"
      ],
      "metadata": {
        "colab": {
          "base_uri": "https://localhost:8080/"
        },
        "id": "EwpuPctvUBne",
        "outputId": "8b9ab4bf-db26-4bc8-ed74-ea60b807c32a"
      },
      "execution_count": 8,
      "outputs": [
        {
          "output_type": "stream",
          "name": "stdout",
          "text": [
            "[5 7 9]\n",
            "[ 4 10 18]\n",
            "[0.25 0.4  0.5 ]\n"
          ]
        }
      ]
    },
    {
      "cell_type": "code",
      "source": [
        "# Importing NumPy\n",
        "import numpy as np\n",
        "\n",
        "# Creating NumPy arrays\n",
        "arr = np.array([1, 2, 3, 4, 5])\n",
        "print(\"Array:\", arr)\n",
        "\n",
        "# Checking data type\n",
        "print(\"Data type:\", arr.dtype)\n",
        "\n",
        "# Creating different types of arrays\n",
        "zeros_arr = np.zeros((2,3))  # 2x3 matrix filled with zeros\n",
        "ones_arr = np.ones((3,3))    # 3x3 matrix filled with ones\n",
        "range_arr = np.arange(1, 10, 2)  # Array with a step of 2\n",
        "\n",
        "print(\"Zeros Array:\\n\", zeros_arr)\n",
        "print(\"Ones Array:\\n\", ones_arr)\n",
        "print(\"Range Array:\", range_arr)\n",
        "\n",
        "# Indexing and Slicing\n",
        "arr2 = np.array([10, 20, 30, 40, 50])\n",
        "print(\"Element at index 2:\", arr2[2])\n",
        "print(\"Slicing from index 1 to 4:\", arr2[1:4])\n",
        "\n",
        "# Broadcasting\n",
        "arr3 = np.array([1, 2, 3])\n",
        "print(\"Broadcasting Example:\", arr3 + 10)\n",
        "\n",
        "# Iterating Over an Array\n",
        "arr4 = np.array([[1, 2, 3], [4, 5, 6]])\n",
        "print(\"Iterating over array:\")\n",
        "for x in np.nditer(arr4):\n",
        "    print(x, end=\" \")\n",
        "\n",
        "# Array Operations\n",
        "arr5 = np.array([1, 2, 3])\n",
        "arr6 = np.array([4, 5, 6])\n",
        "\n",
        "print(\"\\nAddition:\", arr5 + arr6)\n",
        "print(\"Multiplication:\", arr5 * arr6)\n",
        "print(\"Division:\", arr5 / arr6)\n"
      ],
      "metadata": {
        "colab": {
          "base_uri": "https://localhost:8080/"
        },
        "id": "s62k2s1DUBqm",
        "outputId": "1e600b76-446a-44b3-9a01-49f17a1b2bb1"
      },
      "execution_count": 9,
      "outputs": [
        {
          "output_type": "stream",
          "name": "stdout",
          "text": [
            "Array: [1 2 3 4 5]\n",
            "Data type: int64\n",
            "Zeros Array:\n",
            " [[0. 0. 0.]\n",
            " [0. 0. 0.]]\n",
            "Ones Array:\n",
            " [[1. 1. 1.]\n",
            " [1. 1. 1.]\n",
            " [1. 1. 1.]]\n",
            "Range Array: [1 3 5 7 9]\n",
            "Element at index 2: 30\n",
            "Slicing from index 1 to 4: [20 30 40]\n",
            "Broadcasting Example: [11 12 13]\n",
            "Iterating over array:\n",
            "1 2 3 4 5 6 \n",
            "Addition: [5 7 9]\n",
            "Multiplication: [ 4 10 18]\n",
            "Division: [0.25 0.4  0.5 ]\n"
          ]
        }
      ]
    }
  ]
}